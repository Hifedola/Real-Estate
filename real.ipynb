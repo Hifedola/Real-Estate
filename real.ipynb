{
 "cells": [
  {
   "cell_type": "markdown",
   "metadata": {},
   "source": [
    "pandas (pd): Used for data manipulation and analysis.\n",
    "numpy (np): Used for numerical operations and handling arrays.\n",
    "matplotlib.pyplot (plt): Used for creating plots and charts.\n",
    "seaborn (sns): Used for creating statistical visualizations with a high-level interface."
   ]
  },
  {
   "cell_type": "code",
   "execution_count": 21,
   "metadata": {},
   "outputs": [],
   "source": [
    "import pandas as pd\n",
    "import numpy as np\n",
    "import matplotlib.pyplot as plt\n",
    "import seaborn as sns"
   ]
  },
  {
   "cell_type": "markdown",
   "metadata": {},
   "source": [
    "This line of code reads the Excel file located at C:\\Users\\Hifedolapo\\Desktop\\real Data.xlsx and loads its contents into a pandas DataFrame named df."
   ]
  },
  {
   "cell_type": "code",
   "execution_count": 24,
   "metadata": {},
   "outputs": [],
   "source": [
    "df = pd.read_excel(r\"C:\\Users\\Hifedolapo\\Desktop\\real Data.xlsx\")"
   ]
  },
  {
   "cell_type": "markdown",
   "metadata": {},
   "source": [
    "df.tail() displays the last 5 rows of the DataFrame df. This is useful for quickly inspecting the end of the dataset to understand its structure and contents."
   ]
  },
  {
   "cell_type": "code",
   "execution_count": 42,
   "metadata": {},
   "outputs": [
    {
     "data": {
      "text/html": [
       "<div>\n",
       "<style scoped>\n",
       "    .dataframe tbody tr th:only-of-type {\n",
       "        vertical-align: middle;\n",
       "    }\n",
       "\n",
       "    .dataframe tbody tr th {\n",
       "        vertical-align: top;\n",
       "    }\n",
       "\n",
       "    .dataframe thead th {\n",
       "        text-align: right;\n",
       "    }\n",
       "</style>\n",
       "<table border=\"1\" class=\"dataframe\">\n",
       "  <thead>\n",
       "    <tr style=\"text-align: right;\">\n",
       "      <th></th>\n",
       "      <th>Description</th>\n",
       "      <th>state</th>\n",
       "      <th>price</th>\n",
       "      <th>bedrooms</th>\n",
       "      <th>bathrooms</th>\n",
       "      <th>toilets</th>\n",
       "      <th>parking_space</th>\n",
       "      <th>Size</th>\n",
       "      <th>Adjusted Size</th>\n",
       "      <th>Price per sqm</th>\n",
       "      <th>Region</th>\n",
       "      <th>Property Age</th>\n",
       "    </tr>\n",
       "  </thead>\n",
       "  <tbody>\n",
       "    <tr>\n",
       "      <th>24321</th>\n",
       "      <td>Block of Flats</td>\n",
       "      <td>Abuja</td>\n",
       "      <td>15000000</td>\n",
       "      <td>2</td>\n",
       "      <td>2</td>\n",
       "      <td>2</td>\n",
       "      <td>4</td>\n",
       "      <td>700</td>\n",
       "      <td>740</td>\n",
       "      <td>20270</td>\n",
       "      <td>North Central</td>\n",
       "      <td>25</td>\n",
       "    </tr>\n",
       "    <tr>\n",
       "      <th>24322</th>\n",
       "      <td>Block of Flats</td>\n",
       "      <td>Ogun</td>\n",
       "      <td>25000000</td>\n",
       "      <td>4</td>\n",
       "      <td>5</td>\n",
       "      <td>5</td>\n",
       "      <td>4</td>\n",
       "      <td>700</td>\n",
       "      <td>760</td>\n",
       "      <td>32895</td>\n",
       "      <td>South West</td>\n",
       "      <td>25</td>\n",
       "    </tr>\n",
       "    <tr>\n",
       "      <th>24323</th>\n",
       "      <td>Detached Duplex</td>\n",
       "      <td>Lagos</td>\n",
       "      <td>68000000</td>\n",
       "      <td>4</td>\n",
       "      <td>5</td>\n",
       "      <td>5</td>\n",
       "      <td>4</td>\n",
       "      <td>500</td>\n",
       "      <td>560</td>\n",
       "      <td>121429</td>\n",
       "      <td>South West</td>\n",
       "      <td>15</td>\n",
       "    </tr>\n",
       "    <tr>\n",
       "      <th>24324</th>\n",
       "      <td>Block of Flats</td>\n",
       "      <td>Lagos</td>\n",
       "      <td>78000000</td>\n",
       "      <td>3</td>\n",
       "      <td>4</td>\n",
       "      <td>4</td>\n",
       "      <td>3</td>\n",
       "      <td>700</td>\n",
       "      <td>745</td>\n",
       "      <td>104698</td>\n",
       "      <td>South West</td>\n",
       "      <td>15</td>\n",
       "    </tr>\n",
       "    <tr>\n",
       "      <th>24325</th>\n",
       "      <td>Detached Duplex</td>\n",
       "      <td>Lagos</td>\n",
       "      <td>65000000</td>\n",
       "      <td>4</td>\n",
       "      <td>5</td>\n",
       "      <td>5</td>\n",
       "      <td>4</td>\n",
       "      <td>500</td>\n",
       "      <td>560</td>\n",
       "      <td>116071</td>\n",
       "      <td>South West</td>\n",
       "      <td>15</td>\n",
       "    </tr>\n",
       "  </tbody>\n",
       "</table>\n",
       "</div>"
      ],
      "text/plain": [
       "           Description  state     price  bedrooms  bathrooms  toilets  \\\n",
       "24321   Block of Flats  Abuja  15000000         2          2        2   \n",
       "24322   Block of Flats   Ogun  25000000         4          5        5   \n",
       "24323  Detached Duplex  Lagos  68000000         4          5        5   \n",
       "24324   Block of Flats  Lagos  78000000         3          4        4   \n",
       "24325  Detached Duplex  Lagos  65000000         4          5        5   \n",
       "\n",
       "       parking_space  Size  Adjusted Size  Price per sqm         Region  \\\n",
       "24321              4   700            740          20270  North Central   \n",
       "24322              4   700            760          32895     South West   \n",
       "24323              4   500            560         121429     South West   \n",
       "24324              3   700            745         104698     South West   \n",
       "24325              4   500            560         116071     South West   \n",
       "\n",
       "       Property Age  \n",
       "24321            25  \n",
       "24322            25  \n",
       "24323            15  \n",
       "24324            15  \n",
       "24325            15  "
      ]
     },
     "execution_count": 42,
     "metadata": {},
     "output_type": "execute_result"
    }
   ],
   "source": [
    "df.tail()"
   ]
  },
  {
   "cell_type": "markdown",
   "metadata": {},
   "source": [
    "df.info() provides a quick overview of the DataFrame's structure and data types, which is useful for understanding the dataset and identifying potential issues such as missing values.\n",
    "\n"
   ]
  },
  {
   "cell_type": "code",
   "execution_count": 43,
   "metadata": {},
   "outputs": [
    {
     "name": "stdout",
     "output_type": "stream",
     "text": [
      "<class 'pandas.core.frame.DataFrame'>\n",
      "RangeIndex: 24326 entries, 0 to 24325\n",
      "Data columns (total 12 columns):\n",
      " #   Column         Non-Null Count  Dtype \n",
      "---  ------         --------------  ----- \n",
      " 0   Description    24326 non-null  object\n",
      " 1   state          24326 non-null  object\n",
      " 2   price          24326 non-null  int64 \n",
      " 3   bedrooms       24326 non-null  int64 \n",
      " 4   bathrooms      24326 non-null  int64 \n",
      " 5   toilets        24326 non-null  int64 \n",
      " 6   parking_space  24326 non-null  int64 \n",
      " 7   Size           24326 non-null  int64 \n",
      " 8   Adjusted Size  24326 non-null  int64 \n",
      " 9   Price per sqm  24326 non-null  int64 \n",
      " 10  Region         24042 non-null  object\n",
      " 11  Property Age   24326 non-null  int64 \n",
      "dtypes: int64(9), object(3)\n",
      "memory usage: 2.2+ MB\n"
     ]
    }
   ],
   "source": [
    "df.info()"
   ]
  },
  {
   "cell_type": "markdown",
   "metadata": {},
   "source": [
    "df.describe() provides a summary of the central tendency, dispersion, and shape of the distribution of the numerical columns in the DataFrame, which is useful for understanding the dataset's characteristics."
   ]
  },
  {
   "cell_type": "code",
   "execution_count": 44,
   "metadata": {},
   "outputs": [
    {
     "data": {
      "text/html": [
       "<div>\n",
       "<style scoped>\n",
       "    .dataframe tbody tr th:only-of-type {\n",
       "        vertical-align: middle;\n",
       "    }\n",
       "\n",
       "    .dataframe tbody tr th {\n",
       "        vertical-align: top;\n",
       "    }\n",
       "\n",
       "    .dataframe thead th {\n",
       "        text-align: right;\n",
       "    }\n",
       "</style>\n",
       "<table border=\"1\" class=\"dataframe\">\n",
       "  <thead>\n",
       "    <tr style=\"text-align: right;\">\n",
       "      <th></th>\n",
       "      <th>price</th>\n",
       "      <th>bedrooms</th>\n",
       "      <th>bathrooms</th>\n",
       "      <th>toilets</th>\n",
       "      <th>parking_space</th>\n",
       "      <th>Size</th>\n",
       "      <th>Adjusted Size</th>\n",
       "      <th>Price per sqm</th>\n",
       "      <th>Property Age</th>\n",
       "    </tr>\n",
       "  </thead>\n",
       "  <tbody>\n",
       "    <tr>\n",
       "      <th>count</th>\n",
       "      <td>2.432600e+04</td>\n",
       "      <td>24326.000000</td>\n",
       "      <td>24326.000000</td>\n",
       "      <td>24326.000000</td>\n",
       "      <td>24326.000000</td>\n",
       "      <td>24326.000000</td>\n",
       "      <td>24326.000000</td>\n",
       "      <td>2.432600e+04</td>\n",
       "      <td>24326.000000</td>\n",
       "    </tr>\n",
       "    <tr>\n",
       "      <th>mean</th>\n",
       "      <td>3.013802e+08</td>\n",
       "      <td>4.338814</td>\n",
       "      <td>4.600798</td>\n",
       "      <td>5.176355</td>\n",
       "      <td>4.041725</td>\n",
       "      <td>462.083779</td>\n",
       "      <td>525.680548</td>\n",
       "      <td>5.494469e+05</td>\n",
       "      <td>15.389706</td>\n",
       "    </tr>\n",
       "    <tr>\n",
       "      <th>std</th>\n",
       "      <td>1.220403e+10</td>\n",
       "      <td>1.138497</td>\n",
       "      <td>1.163161</td>\n",
       "      <td>1.226253</td>\n",
       "      <td>1.399936</td>\n",
       "      <td>122.129188</td>\n",
       "      <td>124.962615</td>\n",
       "      <td>2.021228e+07</td>\n",
       "      <td>6.449123</td>\n",
       "    </tr>\n",
       "    <tr>\n",
       "      <th>min</th>\n",
       "      <td>9.000000e+04</td>\n",
       "      <td>1.000000</td>\n",
       "      <td>1.000000</td>\n",
       "      <td>1.000000</td>\n",
       "      <td>1.000000</td>\n",
       "      <td>200.000000</td>\n",
       "      <td>215.000000</td>\n",
       "      <td>1.930000e+02</td>\n",
       "      <td>5.000000</td>\n",
       "    </tr>\n",
       "    <tr>\n",
       "      <th>25%</th>\n",
       "      <td>5.200000e+07</td>\n",
       "      <td>4.000000</td>\n",
       "      <td>4.000000</td>\n",
       "      <td>5.000000</td>\n",
       "      <td>4.000000</td>\n",
       "      <td>500.000000</td>\n",
       "      <td>535.000000</td>\n",
       "      <td>1.071430e+05</td>\n",
       "      <td>15.000000</td>\n",
       "    </tr>\n",
       "    <tr>\n",
       "      <th>50%</th>\n",
       "      <td>8.500000e+07</td>\n",
       "      <td>4.000000</td>\n",
       "      <td>5.000000</td>\n",
       "      <td>5.000000</td>\n",
       "      <td>4.000000</td>\n",
       "      <td>500.000000</td>\n",
       "      <td>565.000000</td>\n",
       "      <td>1.785710e+05</td>\n",
       "      <td>15.000000</td>\n",
       "    </tr>\n",
       "    <tr>\n",
       "      <th>75%</th>\n",
       "      <td>1.600000e+08</td>\n",
       "      <td>5.000000</td>\n",
       "      <td>5.000000</td>\n",
       "      <td>6.000000</td>\n",
       "      <td>4.000000</td>\n",
       "      <td>500.000000</td>\n",
       "      <td>575.000000</td>\n",
       "      <td>3.157890e+05</td>\n",
       "      <td>15.000000</td>\n",
       "    </tr>\n",
       "    <tr>\n",
       "      <th>max</th>\n",
       "      <td>1.800000e+12</td>\n",
       "      <td>9.000000</td>\n",
       "      <td>9.000000</td>\n",
       "      <td>9.000000</td>\n",
       "      <td>9.000000</td>\n",
       "      <td>700.000000</td>\n",
       "      <td>825.000000</td>\n",
       "      <td>2.950820e+09</td>\n",
       "      <td>25.000000</td>\n",
       "    </tr>\n",
       "  </tbody>\n",
       "</table>\n",
       "</div>"
      ],
      "text/plain": [
       "              price      bedrooms     bathrooms       toilets  parking_space  \\\n",
       "count  2.432600e+04  24326.000000  24326.000000  24326.000000   24326.000000   \n",
       "mean   3.013802e+08      4.338814      4.600798      5.176355       4.041725   \n",
       "std    1.220403e+10      1.138497      1.163161      1.226253       1.399936   \n",
       "min    9.000000e+04      1.000000      1.000000      1.000000       1.000000   \n",
       "25%    5.200000e+07      4.000000      4.000000      5.000000       4.000000   \n",
       "50%    8.500000e+07      4.000000      5.000000      5.000000       4.000000   \n",
       "75%    1.600000e+08      5.000000      5.000000      6.000000       4.000000   \n",
       "max    1.800000e+12      9.000000      9.000000      9.000000       9.000000   \n",
       "\n",
       "               Size  Adjusted Size  Price per sqm  Property Age  \n",
       "count  24326.000000   24326.000000   2.432600e+04  24326.000000  \n",
       "mean     462.083779     525.680548   5.494469e+05     15.389706  \n",
       "std      122.129188     124.962615   2.021228e+07      6.449123  \n",
       "min      200.000000     215.000000   1.930000e+02      5.000000  \n",
       "25%      500.000000     535.000000   1.071430e+05     15.000000  \n",
       "50%      500.000000     565.000000   1.785710e+05     15.000000  \n",
       "75%      500.000000     575.000000   3.157890e+05     15.000000  \n",
       "max      700.000000     825.000000   2.950820e+09     25.000000  "
      ]
     },
     "execution_count": 44,
     "metadata": {},
     "output_type": "execute_result"
    }
   ],
   "source": [
    "df.describe()"
   ]
  },
  {
   "cell_type": "markdown",
   "metadata": {},
   "source": [
    "df.isnull().sum() returns a Series with the count of missing values for each column in the DataFrame df. This is useful for identifying columns with missing data that may need to be addressed."
   ]
  },
  {
   "cell_type": "code",
   "execution_count": 45,
   "metadata": {},
   "outputs": [
    {
     "data": {
      "text/plain": [
       "Description        0\n",
       "state              0\n",
       "price              0\n",
       "bedrooms           0\n",
       "bathrooms          0\n",
       "toilets            0\n",
       "parking_space      0\n",
       "Size               0\n",
       "Adjusted Size      0\n",
       "Price per sqm      0\n",
       "Region           284\n",
       "Property Age       0\n",
       "dtype: int64"
      ]
     },
     "execution_count": 45,
     "metadata": {},
     "output_type": "execute_result"
    }
   ],
   "source": [
    "df.isnull().sum()"
   ]
  },
  {
   "cell_type": "markdown",
   "metadata": {},
   "source": [
    "df['Region'].fillna(df['Region'].mode()[0], inplace=True) fills all the missing values in the 'Region' column with the most frequent value (mode) of that column. This is useful for handling missing data by replacing it with a common value from the same column."
   ]
  },
  {
   "cell_type": "code",
   "execution_count": 46,
   "metadata": {},
   "outputs": [
    {
     "name": "stderr",
     "output_type": "stream",
     "text": [
      "C:\\Users\\Hifedolapo\\AppData\\Local\\Temp\\ipykernel_7384\\137264866.py:1: FutureWarning: A value is trying to be set on a copy of a DataFrame or Series through chained assignment using an inplace method.\n",
      "The behavior will change in pandas 3.0. This inplace method will never work because the intermediate object on which we are setting values always behaves as a copy.\n",
      "\n",
      "For example, when doing 'df[col].method(value, inplace=True)', try using 'df.method({col: value}, inplace=True)' or df[col] = df[col].method(value) instead, to perform the operation inplace on the original object.\n",
      "\n",
      "\n",
      "  df['Region'].fillna(df['Region'].mode()[0], inplace=True)\n"
     ]
    }
   ],
   "source": [
    "df['Region'].fillna(df['Region'].mode()[0], inplace=True)"
   ]
  },
  {
   "cell_type": "code",
   "execution_count": 47,
   "metadata": {},
   "outputs": [
    {
     "data": {
      "text/plain": [
       "Description      0\n",
       "state            0\n",
       "price            0\n",
       "bedrooms         0\n",
       "bathrooms        0\n",
       "toilets          0\n",
       "parking_space    0\n",
       "Size             0\n",
       "Adjusted Size    0\n",
       "Price per sqm    0\n",
       "Region           0\n",
       "Property Age     0\n",
       "dtype: int64"
      ]
     },
     "execution_count": 47,
     "metadata": {},
     "output_type": "execute_result"
    }
   ],
   "source": [
    "df.isnull().sum()"
   ]
  },
  {
   "cell_type": "markdown",
   "metadata": {},
   "source": [
    "df[df['price'] > 100000000] filters the DataFrame to show only the rows where the 'price' column has values greater than 100,000,000. This is useful for identifying and analyzing properties with very high prices.\n",
    "\n",
    "\n"
   ]
  },
  {
   "cell_type": "code",
   "execution_count": 48,
   "metadata": {},
   "outputs": [
    {
     "data": {
      "text/html": [
       "<div>\n",
       "<style scoped>\n",
       "    .dataframe tbody tr th:only-of-type {\n",
       "        vertical-align: middle;\n",
       "    }\n",
       "\n",
       "    .dataframe tbody tr th {\n",
       "        vertical-align: top;\n",
       "    }\n",
       "\n",
       "    .dataframe thead th {\n",
       "        text-align: right;\n",
       "    }\n",
       "</style>\n",
       "<table border=\"1\" class=\"dataframe\">\n",
       "  <thead>\n",
       "    <tr style=\"text-align: right;\">\n",
       "      <th></th>\n",
       "      <th>Description</th>\n",
       "      <th>state</th>\n",
       "      <th>price</th>\n",
       "      <th>bedrooms</th>\n",
       "      <th>bathrooms</th>\n",
       "      <th>toilets</th>\n",
       "      <th>parking_space</th>\n",
       "      <th>Size</th>\n",
       "      <th>Adjusted Size</th>\n",
       "      <th>Price per sqm</th>\n",
       "      <th>Region</th>\n",
       "      <th>Property Age</th>\n",
       "    </tr>\n",
       "  </thead>\n",
       "  <tbody>\n",
       "    <tr>\n",
       "      <th>0</th>\n",
       "      <td>Detached Duplex</td>\n",
       "      <td>Abuja</td>\n",
       "      <td>450000000</td>\n",
       "      <td>6</td>\n",
       "      <td>5</td>\n",
       "      <td>5</td>\n",
       "      <td>4</td>\n",
       "      <td>500</td>\n",
       "      <td>580</td>\n",
       "      <td>775862</td>\n",
       "      <td>North Central</td>\n",
       "      <td>5</td>\n",
       "    </tr>\n",
       "    <tr>\n",
       "      <th>1</th>\n",
       "      <td>Terraced Duplexes</td>\n",
       "      <td>Abuja</td>\n",
       "      <td>800000000</td>\n",
       "      <td>4</td>\n",
       "      <td>5</td>\n",
       "      <td>5</td>\n",
       "      <td>4</td>\n",
       "      <td>200</td>\n",
       "      <td>260</td>\n",
       "      <td>3076923</td>\n",
       "      <td>North Central</td>\n",
       "      <td>5</td>\n",
       "    </tr>\n",
       "    <tr>\n",
       "      <th>2</th>\n",
       "      <td>Detached Duplex</td>\n",
       "      <td>Lagos</td>\n",
       "      <td>120000000</td>\n",
       "      <td>4</td>\n",
       "      <td>5</td>\n",
       "      <td>5</td>\n",
       "      <td>4</td>\n",
       "      <td>500</td>\n",
       "      <td>560</td>\n",
       "      <td>214286</td>\n",
       "      <td>South West</td>\n",
       "      <td>15</td>\n",
       "    </tr>\n",
       "    <tr>\n",
       "      <th>5</th>\n",
       "      <td>Detached Duplex</td>\n",
       "      <td>Lagos</td>\n",
       "      <td>450000000</td>\n",
       "      <td>5</td>\n",
       "      <td>5</td>\n",
       "      <td>6</td>\n",
       "      <td>1</td>\n",
       "      <td>500</td>\n",
       "      <td>555</td>\n",
       "      <td>810811</td>\n",
       "      <td>South West</td>\n",
       "      <td>5</td>\n",
       "    </tr>\n",
       "    <tr>\n",
       "      <th>8</th>\n",
       "      <td>Detached Duplex</td>\n",
       "      <td>Lagos</td>\n",
       "      <td>200000000</td>\n",
       "      <td>1</td>\n",
       "      <td>1</td>\n",
       "      <td>1</td>\n",
       "      <td>1</td>\n",
       "      <td>500</td>\n",
       "      <td>515</td>\n",
       "      <td>388350</td>\n",
       "      <td>South West</td>\n",
       "      <td>15</td>\n",
       "    </tr>\n",
       "    <tr>\n",
       "      <th>...</th>\n",
       "      <td>...</td>\n",
       "      <td>...</td>\n",
       "      <td>...</td>\n",
       "      <td>...</td>\n",
       "      <td>...</td>\n",
       "      <td>...</td>\n",
       "      <td>...</td>\n",
       "      <td>...</td>\n",
       "      <td>...</td>\n",
       "      <td>...</td>\n",
       "      <td>...</td>\n",
       "      <td>...</td>\n",
       "    </tr>\n",
       "    <tr>\n",
       "      <th>24312</th>\n",
       "      <td>Detached Duplex</td>\n",
       "      <td>Lagos</td>\n",
       "      <td>165000000</td>\n",
       "      <td>5</td>\n",
       "      <td>5</td>\n",
       "      <td>6</td>\n",
       "      <td>4</td>\n",
       "      <td>500</td>\n",
       "      <td>570</td>\n",
       "      <td>289474</td>\n",
       "      <td>South West</td>\n",
       "      <td>15</td>\n",
       "    </tr>\n",
       "    <tr>\n",
       "      <th>24313</th>\n",
       "      <td>Detached Duplex</td>\n",
       "      <td>Lagos</td>\n",
       "      <td>130000000</td>\n",
       "      <td>5</td>\n",
       "      <td>5</td>\n",
       "      <td>6</td>\n",
       "      <td>6</td>\n",
       "      <td>500</td>\n",
       "      <td>580</td>\n",
       "      <td>224138</td>\n",
       "      <td>South West</td>\n",
       "      <td>15</td>\n",
       "    </tr>\n",
       "    <tr>\n",
       "      <th>24316</th>\n",
       "      <td>Detached Duplex</td>\n",
       "      <td>Lagos</td>\n",
       "      <td>320000000</td>\n",
       "      <td>5</td>\n",
       "      <td>5</td>\n",
       "      <td>6</td>\n",
       "      <td>5</td>\n",
       "      <td>500</td>\n",
       "      <td>575</td>\n",
       "      <td>556522</td>\n",
       "      <td>South West</td>\n",
       "      <td>5</td>\n",
       "    </tr>\n",
       "    <tr>\n",
       "      <th>24318</th>\n",
       "      <td>Semi Detached Duplex</td>\n",
       "      <td>Lagos</td>\n",
       "      <td>110000000</td>\n",
       "      <td>4</td>\n",
       "      <td>5</td>\n",
       "      <td>5</td>\n",
       "      <td>4</td>\n",
       "      <td>500</td>\n",
       "      <td>560</td>\n",
       "      <td>196429</td>\n",
       "      <td>South West</td>\n",
       "      <td>15</td>\n",
       "    </tr>\n",
       "    <tr>\n",
       "      <th>24319</th>\n",
       "      <td>Detached Duplex</td>\n",
       "      <td>Abuja</td>\n",
       "      <td>1000000000</td>\n",
       "      <td>8</td>\n",
       "      <td>8</td>\n",
       "      <td>9</td>\n",
       "      <td>4</td>\n",
       "      <td>500</td>\n",
       "      <td>600</td>\n",
       "      <td>1666667</td>\n",
       "      <td>North Central</td>\n",
       "      <td>5</td>\n",
       "    </tr>\n",
       "  </tbody>\n",
       "</table>\n",
       "<p>10469 rows × 12 columns</p>\n",
       "</div>"
      ],
      "text/plain": [
       "                Description  state       price  bedrooms  bathrooms  toilets  \\\n",
       "0           Detached Duplex  Abuja   450000000         6          5        5   \n",
       "1         Terraced Duplexes  Abuja   800000000         4          5        5   \n",
       "2           Detached Duplex  Lagos   120000000         4          5        5   \n",
       "5           Detached Duplex  Lagos   450000000         5          5        6   \n",
       "8           Detached Duplex  Lagos   200000000         1          1        1   \n",
       "...                     ...    ...         ...       ...        ...      ...   \n",
       "24312       Detached Duplex  Lagos   165000000         5          5        6   \n",
       "24313       Detached Duplex  Lagos   130000000         5          5        6   \n",
       "24316       Detached Duplex  Lagos   320000000         5          5        6   \n",
       "24318  Semi Detached Duplex  Lagos   110000000         4          5        5   \n",
       "24319       Detached Duplex  Abuja  1000000000         8          8        9   \n",
       "\n",
       "       parking_space  Size  Adjusted Size  Price per sqm         Region  \\\n",
       "0                  4   500            580         775862  North Central   \n",
       "1                  4   200            260        3076923  North Central   \n",
       "2                  4   500            560         214286     South West   \n",
       "5                  1   500            555         810811     South West   \n",
       "8                  1   500            515         388350     South West   \n",
       "...              ...   ...            ...            ...            ...   \n",
       "24312              4   500            570         289474     South West   \n",
       "24313              6   500            580         224138     South West   \n",
       "24316              5   500            575         556522     South West   \n",
       "24318              4   500            560         196429     South West   \n",
       "24319              4   500            600        1666667  North Central   \n",
       "\n",
       "       Property Age  \n",
       "0                 5  \n",
       "1                 5  \n",
       "2                15  \n",
       "5                 5  \n",
       "8                15  \n",
       "...             ...  \n",
       "24312            15  \n",
       "24313            15  \n",
       "24316             5  \n",
       "24318            15  \n",
       "24319             5  \n",
       "\n",
       "[10469 rows x 12 columns]"
      ]
     },
     "execution_count": 48,
     "metadata": {},
     "output_type": "execute_result"
    }
   ],
   "source": [
    "df[df['price'] > 100000000]"
   ]
  },
  {
   "cell_type": "markdown",
   "metadata": {},
   "source": [
    "df.groupby('Region')['price'].mean() groups the DataFrame by the 'Region' column and then calculates the average price for each region. This is useful for comparing the average property prices across different regions.\n",
    "\n"
   ]
  },
  {
   "cell_type": "code",
   "execution_count": 49,
   "metadata": {},
   "outputs": [
    {
     "data": {
      "text/plain": [
       "Region\n",
       "North Central    2.256666e+08\n",
       "South East       7.193088e+07\n",
       "South South      1.155566e+08\n",
       "South West       3.244020e+08\n",
       "Name: price, dtype: float64"
      ]
     },
     "execution_count": 49,
     "metadata": {},
     "output_type": "execute_result"
    }
   ],
   "source": [
    "df.groupby('Region')['price'].mean()"
   ]
  },
  {
   "cell_type": "markdown",
   "metadata": {},
   "source": [
    "df.sort_values(by='price', ascending=False) sorts the DataFrame by the 'price' column in descending order, so that the rows with the highest prices appear first. This is useful for quickly identifying the most expensive properties in the dataset.\n",
    "\n"
   ]
  },
  {
   "cell_type": "code",
   "execution_count": 50,
   "metadata": {},
   "outputs": [
    {
     "data": {
      "text/html": [
       "<div>\n",
       "<style scoped>\n",
       "    .dataframe tbody tr th:only-of-type {\n",
       "        vertical-align: middle;\n",
       "    }\n",
       "\n",
       "    .dataframe tbody tr th {\n",
       "        vertical-align: top;\n",
       "    }\n",
       "\n",
       "    .dataframe thead th {\n",
       "        text-align: right;\n",
       "    }\n",
       "</style>\n",
       "<table border=\"1\" class=\"dataframe\">\n",
       "  <thead>\n",
       "    <tr style=\"text-align: right;\">\n",
       "      <th></th>\n",
       "      <th>Description</th>\n",
       "      <th>state</th>\n",
       "      <th>price</th>\n",
       "      <th>bedrooms</th>\n",
       "      <th>bathrooms</th>\n",
       "      <th>toilets</th>\n",
       "      <th>parking_space</th>\n",
       "      <th>Size</th>\n",
       "      <th>Adjusted Size</th>\n",
       "      <th>Price per sqm</th>\n",
       "      <th>Region</th>\n",
       "      <th>Property Age</th>\n",
       "    </tr>\n",
       "  </thead>\n",
       "  <tbody>\n",
       "    <tr>\n",
       "      <th>4096</th>\n",
       "      <td>Detached Duplex</td>\n",
       "      <td>Lagos</td>\n",
       "      <td>1800000000000</td>\n",
       "      <td>7</td>\n",
       "      <td>7</td>\n",
       "      <td>8</td>\n",
       "      <td>8</td>\n",
       "      <td>500</td>\n",
       "      <td>610</td>\n",
       "      <td>2950819672</td>\n",
       "      <td>South West</td>\n",
       "      <td>5</td>\n",
       "    </tr>\n",
       "    <tr>\n",
       "      <th>6632</th>\n",
       "      <td>Semi Detached Duplex</td>\n",
       "      <td>Lagos</td>\n",
       "      <td>450000000000</td>\n",
       "      <td>4</td>\n",
       "      <td>4</td>\n",
       "      <td>5</td>\n",
       "      <td>4</td>\n",
       "      <td>500</td>\n",
       "      <td>560</td>\n",
       "      <td>803571429</td>\n",
       "      <td>South West</td>\n",
       "      <td>5</td>\n",
       "    </tr>\n",
       "    <tr>\n",
       "      <th>15962</th>\n",
       "      <td>Detached Duplex</td>\n",
       "      <td>Lagos</td>\n",
       "      <td>350000000000</td>\n",
       "      <td>9</td>\n",
       "      <td>9</td>\n",
       "      <td>1</td>\n",
       "      <td>4</td>\n",
       "      <td>500</td>\n",
       "      <td>610</td>\n",
       "      <td>573770492</td>\n",
       "      <td>South West</td>\n",
       "      <td>5</td>\n",
       "    </tr>\n",
       "    <tr>\n",
       "      <th>4327</th>\n",
       "      <td>Detached Duplex</td>\n",
       "      <td>Lagos</td>\n",
       "      <td>160000000000</td>\n",
       "      <td>5</td>\n",
       "      <td>5</td>\n",
       "      <td>6</td>\n",
       "      <td>4</td>\n",
       "      <td>500</td>\n",
       "      <td>570</td>\n",
       "      <td>280701754</td>\n",
       "      <td>South West</td>\n",
       "      <td>5</td>\n",
       "    </tr>\n",
       "    <tr>\n",
       "      <th>7098</th>\n",
       "      <td>Semi Detached Duplex</td>\n",
       "      <td>Lagos</td>\n",
       "      <td>125000000000</td>\n",
       "      <td>5</td>\n",
       "      <td>5</td>\n",
       "      <td>6</td>\n",
       "      <td>4</td>\n",
       "      <td>500</td>\n",
       "      <td>570</td>\n",
       "      <td>219298246</td>\n",
       "      <td>South West</td>\n",
       "      <td>5</td>\n",
       "    </tr>\n",
       "    <tr>\n",
       "      <th>...</th>\n",
       "      <td>...</td>\n",
       "      <td>...</td>\n",
       "      <td>...</td>\n",
       "      <td>...</td>\n",
       "      <td>...</td>\n",
       "      <td>...</td>\n",
       "      <td>...</td>\n",
       "      <td>...</td>\n",
       "      <td>...</td>\n",
       "      <td>...</td>\n",
       "      <td>...</td>\n",
       "      <td>...</td>\n",
       "    </tr>\n",
       "    <tr>\n",
       "      <th>2810</th>\n",
       "      <td>Detached Duplex</td>\n",
       "      <td>Lagos</td>\n",
       "      <td>350000</td>\n",
       "      <td>7</td>\n",
       "      <td>5</td>\n",
       "      <td>5</td>\n",
       "      <td>4</td>\n",
       "      <td>500</td>\n",
       "      <td>590</td>\n",
       "      <td>593</td>\n",
       "      <td>South West</td>\n",
       "      <td>25</td>\n",
       "    </tr>\n",
       "    <tr>\n",
       "      <th>17940</th>\n",
       "      <td>Detached Duplex</td>\n",
       "      <td>Lagos</td>\n",
       "      <td>350000</td>\n",
       "      <td>7</td>\n",
       "      <td>5</td>\n",
       "      <td>5</td>\n",
       "      <td>4</td>\n",
       "      <td>500</td>\n",
       "      <td>590</td>\n",
       "      <td>593</td>\n",
       "      <td>South West</td>\n",
       "      <td>25</td>\n",
       "    </tr>\n",
       "    <tr>\n",
       "      <th>2385</th>\n",
       "      <td>Semi Detached Duplex</td>\n",
       "      <td>Abuja</td>\n",
       "      <td>110000</td>\n",
       "      <td>5</td>\n",
       "      <td>7</td>\n",
       "      <td>7</td>\n",
       "      <td>4</td>\n",
       "      <td>500</td>\n",
       "      <td>570</td>\n",
       "      <td>193</td>\n",
       "      <td>North Central</td>\n",
       "      <td>25</td>\n",
       "    </tr>\n",
       "    <tr>\n",
       "      <th>20146</th>\n",
       "      <td>Detached Bungalow</td>\n",
       "      <td>Ogun</td>\n",
       "      <td>100000</td>\n",
       "      <td>2</td>\n",
       "      <td>2</td>\n",
       "      <td>3</td>\n",
       "      <td>4</td>\n",
       "      <td>400</td>\n",
       "      <td>440</td>\n",
       "      <td>227</td>\n",
       "      <td>South West</td>\n",
       "      <td>25</td>\n",
       "    </tr>\n",
       "    <tr>\n",
       "      <th>2693</th>\n",
       "      <td>Terraced Duplexes</td>\n",
       "      <td>Lagos</td>\n",
       "      <td>90000</td>\n",
       "      <td>2</td>\n",
       "      <td>3</td>\n",
       "      <td>3</td>\n",
       "      <td>4</td>\n",
       "      <td>200</td>\n",
       "      <td>240</td>\n",
       "      <td>375</td>\n",
       "      <td>South West</td>\n",
       "      <td>25</td>\n",
       "    </tr>\n",
       "  </tbody>\n",
       "</table>\n",
       "<p>24326 rows × 12 columns</p>\n",
       "</div>"
      ],
      "text/plain": [
       "                Description  state          price  bedrooms  bathrooms  \\\n",
       "4096        Detached Duplex  Lagos  1800000000000         7          7   \n",
       "6632   Semi Detached Duplex  Lagos   450000000000         4          4   \n",
       "15962       Detached Duplex  Lagos   350000000000         9          9   \n",
       "4327        Detached Duplex  Lagos   160000000000         5          5   \n",
       "7098   Semi Detached Duplex  Lagos   125000000000         5          5   \n",
       "...                     ...    ...            ...       ...        ...   \n",
       "2810        Detached Duplex  Lagos         350000         7          5   \n",
       "17940       Detached Duplex  Lagos         350000         7          5   \n",
       "2385   Semi Detached Duplex  Abuja         110000         5          7   \n",
       "20146     Detached Bungalow   Ogun         100000         2          2   \n",
       "2693      Terraced Duplexes  Lagos          90000         2          3   \n",
       "\n",
       "       toilets  parking_space  Size  Adjusted Size  Price per sqm  \\\n",
       "4096         8              8   500            610     2950819672   \n",
       "6632         5              4   500            560      803571429   \n",
       "15962        1              4   500            610      573770492   \n",
       "4327         6              4   500            570      280701754   \n",
       "7098         6              4   500            570      219298246   \n",
       "...        ...            ...   ...            ...            ...   \n",
       "2810         5              4   500            590            593   \n",
       "17940        5              4   500            590            593   \n",
       "2385         7              4   500            570            193   \n",
       "20146        3              4   400            440            227   \n",
       "2693         3              4   200            240            375   \n",
       "\n",
       "              Region  Property Age  \n",
       "4096      South West             5  \n",
       "6632      South West             5  \n",
       "15962     South West             5  \n",
       "4327      South West             5  \n",
       "7098      South West             5  \n",
       "...              ...           ...  \n",
       "2810      South West            25  \n",
       "17940     South West            25  \n",
       "2385   North Central            25  \n",
       "20146     South West            25  \n",
       "2693      South West            25  \n",
       "\n",
       "[24326 rows x 12 columns]"
      ]
     },
     "execution_count": 50,
     "metadata": {},
     "output_type": "execute_result"
    }
   ],
   "source": [
    "df.sort_values(by='price', ascending=False)"
   ]
  },
  {
   "cell_type": "markdown",
   "metadata": {},
   "source": [
    "##### 1. The number of properties in each region"
   ]
  },
  {
   "cell_type": "markdown",
   "metadata": {},
   "source": [
    "df['Region'].value_counts() counts the number of occurrences of each unique value in the 'Region' column. This is useful for understanding the distribution of properties across different regions.\n",
    "\n"
   ]
  },
  {
   "cell_type": "code",
   "execution_count": 51,
   "metadata": {},
   "outputs": [
    {
     "data": {
      "text/plain": [
       "Region\n",
       "South West       19843\n",
       "North Central     3565\n",
       "South South        544\n",
       "South East         374\n",
       "Name: count, dtype: int64"
      ]
     },
     "execution_count": 51,
     "metadata": {},
     "output_type": "execute_result"
    }
   ],
   "source": [
    "df['Region'].value_counts()"
   ]
  },
  {
   "cell_type": "markdown",
   "metadata": {},
   "source": [
    "##### 2. The average price per square meter"
   ]
  },
  {
   "cell_type": "markdown",
   "metadata": {},
   "source": [
    "df['Price per sqm'].mean() calculates the average price per square meter for all properties in the DataFrame. This is useful for understanding the general pricing trend per unit area in the dataset."
   ]
  },
  {
   "cell_type": "code",
   "execution_count": 52,
   "metadata": {},
   "outputs": [
    {
     "data": {
      "text/plain": [
       "549446.9264572884"
      ]
     },
     "execution_count": 52,
     "metadata": {},
     "output_type": "execute_result"
    }
   ],
   "source": [
    "df['Price per sqm'].mean()"
   ]
  },
  {
   "cell_type": "markdown",
   "metadata": {},
   "source": [
    "This creates a new column 'Total Rooms' in the DataFrame df that contains the sum of the values from the 'bedrooms', 'bathrooms', and 'toilets' columns for each row.\n",
    "\n"
   ]
  },
  {
   "cell_type": "markdown",
   "metadata": {},
   "source": [
    "##### 3. Filter Data Based on Multiple Conditions"
   ]
  },
  {
   "cell_type": "code",
   "execution_count": 53,
   "metadata": {},
   "outputs": [],
   "source": [
    "df['Total Rooms'] = df['bedrooms'] + df['bathrooms'] + df['toilets']"
   ]
  },
  {
   "cell_type": "markdown",
   "metadata": {},
   "source": [
    "##### 4. New Column Based on Existing Columns"
   ]
  },
  {
   "cell_type": "code",
   "execution_count": 54,
   "metadata": {},
   "outputs": [],
   "source": [
    "df['Total Rooms'] = df['bedrooms'] + df['bathrooms'] + df['toilets']"
   ]
  },
  {
   "cell_type": "markdown",
   "metadata": {},
   "source": [
    "This code creates a pivot table that shows the average price for each combination of Region and Description."
   ]
  },
  {
   "cell_type": "markdown",
   "metadata": {},
   "source": [
    "##### 5. Pivot Table"
   ]
  },
  {
   "cell_type": "code",
   "execution_count": 55,
   "metadata": {},
   "outputs": [
    {
     "data": {
      "text/html": [
       "<div>\n",
       "<style scoped>\n",
       "    .dataframe tbody tr th:only-of-type {\n",
       "        vertical-align: middle;\n",
       "    }\n",
       "\n",
       "    .dataframe tbody tr th {\n",
       "        vertical-align: top;\n",
       "    }\n",
       "\n",
       "    .dataframe thead th {\n",
       "        text-align: right;\n",
       "    }\n",
       "</style>\n",
       "<table border=\"1\" class=\"dataframe\">\n",
       "  <thead>\n",
       "    <tr style=\"text-align: right;\">\n",
       "      <th>Description</th>\n",
       "      <th>Block of Flats</th>\n",
       "      <th>Detached Bungalow</th>\n",
       "      <th>Detached Duplex</th>\n",
       "      <th>Semi Detached Bungalow</th>\n",
       "      <th>Semi Detached Duplex</th>\n",
       "      <th>Terraced Bungalow</th>\n",
       "      <th>Terraced Duplexes</th>\n",
       "    </tr>\n",
       "    <tr>\n",
       "      <th>Region</th>\n",
       "      <th></th>\n",
       "      <th></th>\n",
       "      <th></th>\n",
       "      <th></th>\n",
       "      <th></th>\n",
       "      <th></th>\n",
       "      <th></th>\n",
       "    </tr>\n",
       "  </thead>\n",
       "  <tbody>\n",
       "    <tr>\n",
       "      <th>North Central</th>\n",
       "      <td>2.515381e+08</td>\n",
       "      <td>4.345251e+07</td>\n",
       "      <td>3.308756e+08</td>\n",
       "      <td>3.205000e+07</td>\n",
       "      <td>1.682876e+08</td>\n",
       "      <td>4.133200e+07</td>\n",
       "      <td>1.854221e+08</td>\n",
       "    </tr>\n",
       "    <tr>\n",
       "      <th>South East</th>\n",
       "      <td>6.277404e+07</td>\n",
       "      <td>3.010250e+07</td>\n",
       "      <td>9.369880e+07</td>\n",
       "      <td>5.400000e+07</td>\n",
       "      <td>9.776471e+07</td>\n",
       "      <td>2.481250e+07</td>\n",
       "      <td>6.554545e+07</td>\n",
       "    </tr>\n",
       "    <tr>\n",
       "      <th>South South</th>\n",
       "      <td>7.029703e+07</td>\n",
       "      <td>3.243162e+07</td>\n",
       "      <td>1.563923e+08</td>\n",
       "      <td>4.218750e+07</td>\n",
       "      <td>2.643333e+08</td>\n",
       "      <td>2.000000e+07</td>\n",
       "      <td>1.091667e+08</td>\n",
       "    </tr>\n",
       "    <tr>\n",
       "      <th>South West</th>\n",
       "      <td>1.799107e+08</td>\n",
       "      <td>4.368756e+07</td>\n",
       "      <td>4.182704e+08</td>\n",
       "      <td>3.600685e+07</td>\n",
       "      <td>3.867154e+08</td>\n",
       "      <td>4.616308e+07</td>\n",
       "      <td>9.146713e+07</td>\n",
       "    </tr>\n",
       "  </tbody>\n",
       "</table>\n",
       "</div>"
      ],
      "text/plain": [
       "Description    Block of Flats  Detached Bungalow  Detached Duplex  \\\n",
       "Region                                                              \n",
       "North Central    2.515381e+08       4.345251e+07     3.308756e+08   \n",
       "South East       6.277404e+07       3.010250e+07     9.369880e+07   \n",
       "South South      7.029703e+07       3.243162e+07     1.563923e+08   \n",
       "South West       1.799107e+08       4.368756e+07     4.182704e+08   \n",
       "\n",
       "Description    Semi Detached Bungalow  Semi Detached Duplex  \\\n",
       "Region                                                        \n",
       "North Central            3.205000e+07          1.682876e+08   \n",
       "South East               5.400000e+07          9.776471e+07   \n",
       "South South              4.218750e+07          2.643333e+08   \n",
       "South West               3.600685e+07          3.867154e+08   \n",
       "\n",
       "Description    Terraced Bungalow  Terraced Duplexes  \n",
       "Region                                               \n",
       "North Central       4.133200e+07       1.854221e+08  \n",
       "South East          2.481250e+07       6.554545e+07  \n",
       "South South         2.000000e+07       1.091667e+08  \n",
       "South West          4.616308e+07       9.146713e+07  "
      ]
     },
     "execution_count": 55,
     "metadata": {},
     "output_type": "execute_result"
    }
   ],
   "source": [
    "pd.pivot_table(df, values='price', index='Region', columns='Description', aggfunc='mean')"
   ]
  },
  {
   "cell_type": "markdown",
   "metadata": {},
   "source": [
    "##### 6. Histogram of Prices"
   ]
  },
  {
   "cell_type": "code",
   "execution_count": 56,
   "metadata": {},
   "outputs": [
    {
     "data": {
      "image/png": "[encoded data removed]",
      "text/plain": [
       "<Figure size 1000x600 with 1 Axes>"
      ]
     },
     "metadata": {},
     "output_type": "display_data"
    }
   ],
   "source": [
    "df['price'].plot(kind='hist', bins=50, figsize=(10, 6))\n",
    "plt.title('Distribution of Property Prices')\n",
    "plt.xlabel('Price')\n",
    "plt.ylabel('Frequency')\n",
    "plt.show()"
   ]
  },
  {
   "cell_type": "markdown",
   "metadata": {},
   "source": [
    "This code finds the most expensive property in the DataFrame and prints its description, state, price, and size."
   ]
  },
  {
   "cell_type": "markdown",
   "metadata": {},
   "source": [
    "##### 7. The Most Expensive Property"
   ]
  },
  {
   "cell_type": "code",
   "execution_count": 70,
   "metadata": {},
   "outputs": [
    {
     "name": "stdout",
     "output_type": "stream",
     "text": [
      "          Description  state          price  Size\n",
      "4096  Detached Duplex  Lagos  1800000000000   500\n"
     ]
    }
   ],
   "source": [
    "most_expensive_property = df[df['price'] == df['price'].max()]\n",
    "print(most_expensive_property[['Description', 'state', 'price', 'Size']])"
   ]
  },
  {
   "cell_type": "markdown",
   "metadata": {},
   "source": [
    "##### 7. The Cheapest Property"
   ]
  },
  {
   "cell_type": "code",
   "execution_count": 72,
   "metadata": {},
   "outputs": [
    {
     "name": "stdout",
     "output_type": "stream",
     "text": [
      "            Description  state  price  Size\n",
      "2693  Terraced Duplexes  Lagos  90000   200\n"
     ]
    }
   ],
   "source": [
    "most_cheapest_property = df[df['price'] == df['price'].min()]\n",
    "print(most_cheapest_property[['Description', 'state', 'price', 'Size']])"
   ]
  },
  {
   "cell_type": "markdown",
   "metadata": {},
   "source": [
    "##### 8. The Number of Properties by Property Age"
   ]
  },
  {
   "cell_type": "code",
   "execution_count": 73,
   "metadata": {},
   "outputs": [
    {
     "data": {
      "text/plain": [
       "Property Age\n",
       "15    14172\n",
       "25     5551\n",
       "5      4603\n",
       "Name: count, dtype: int64"
      ]
     },
     "execution_count": 73,
     "metadata": {},
     "output_type": "execute_result"
    }
   ],
   "source": [
    "df['Property Age'].value_counts()"
   ]
  },
  {
   "cell_type": "markdown",
   "metadata": {},
   "source": [
    "##### 9. Properties with a Specific Number of Bedrooms"
   ]
  },
  {
   "cell_type": "code",
   "execution_count": 74,
   "metadata": {},
   "outputs": [
    {
     "data": {
      "text/html": [
       "<div>\n",
       "<style scoped>\n",
       "    .dataframe tbody tr th:only-of-type {\n",
       "        vertical-align: middle;\n",
       "    }\n",
       "\n",
       "    .dataframe tbody tr th {\n",
       "        vertical-align: top;\n",
       "    }\n",
       "\n",
       "    .dataframe thead th {\n",
       "        text-align: right;\n",
       "    }\n",
       "</style>\n",
       "<table border=\"1\" class=\"dataframe\">\n",
       "  <thead>\n",
       "    <tr style=\"text-align: right;\">\n",
       "      <th></th>\n",
       "      <th>Description</th>\n",
       "      <th>state</th>\n",
       "      <th>price</th>\n",
       "      <th>bedrooms</th>\n",
       "      <th>bathrooms</th>\n",
       "      <th>toilets</th>\n",
       "      <th>parking_space</th>\n",
       "      <th>Size</th>\n",
       "      <th>Adjusted Size</th>\n",
       "      <th>Price per sqm</th>\n",
       "      <th>Region</th>\n",
       "      <th>Property Age</th>\n",
       "      <th>Total Rooms</th>\n",
       "    </tr>\n",
       "  </thead>\n",
       "  <tbody>\n",
       "    <tr>\n",
       "      <th>10</th>\n",
       "      <td>Terraced Duplexes</td>\n",
       "      <td>Abuja</td>\n",
       "      <td>25000000</td>\n",
       "      <td>3</td>\n",
       "      <td>4</td>\n",
       "      <td>5</td>\n",
       "      <td>4</td>\n",
       "      <td>200</td>\n",
       "      <td>250</td>\n",
       "      <td>100000</td>\n",
       "      <td>North Central</td>\n",
       "      <td>25</td>\n",
       "      <td>12</td>\n",
       "    </tr>\n",
       "    <tr>\n",
       "      <th>15</th>\n",
       "      <td>Detached Bungalow</td>\n",
       "      <td>Ogun</td>\n",
       "      <td>12000000</td>\n",
       "      <td>3</td>\n",
       "      <td>4</td>\n",
       "      <td>4</td>\n",
       "      <td>3</td>\n",
       "      <td>400</td>\n",
       "      <td>445</td>\n",
       "      <td>26966</td>\n",
       "      <td>South West</td>\n",
       "      <td>25</td>\n",
       "      <td>11</td>\n",
       "    </tr>\n",
       "    <tr>\n",
       "      <th>17</th>\n",
       "      <td>Detached Bungalow</td>\n",
       "      <td>Abuja</td>\n",
       "      <td>37000000</td>\n",
       "      <td>3</td>\n",
       "      <td>3</td>\n",
       "      <td>4</td>\n",
       "      <td>4</td>\n",
       "      <td>400</td>\n",
       "      <td>450</td>\n",
       "      <td>82222</td>\n",
       "      <td>North Central</td>\n",
       "      <td>25</td>\n",
       "      <td>10</td>\n",
       "    </tr>\n",
       "    <tr>\n",
       "      <th>19</th>\n",
       "      <td>Block of Flats</td>\n",
       "      <td>Lagos</td>\n",
       "      <td>350000000</td>\n",
       "      <td>3</td>\n",
       "      <td>3</td>\n",
       "      <td>4</td>\n",
       "      <td>2</td>\n",
       "      <td>700</td>\n",
       "      <td>740</td>\n",
       "      <td>472973</td>\n",
       "      <td>South West</td>\n",
       "      <td>5</td>\n",
       "      <td>10</td>\n",
       "    </tr>\n",
       "    <tr>\n",
       "      <th>21</th>\n",
       "      <td>Terraced Duplexes</td>\n",
       "      <td>Lagos</td>\n",
       "      <td>34000000</td>\n",
       "      <td>3</td>\n",
       "      <td>3</td>\n",
       "      <td>4</td>\n",
       "      <td>4</td>\n",
       "      <td>200</td>\n",
       "      <td>250</td>\n",
       "      <td>136000</td>\n",
       "      <td>South West</td>\n",
       "      <td>25</td>\n",
       "      <td>10</td>\n",
       "    </tr>\n",
       "    <tr>\n",
       "      <th>...</th>\n",
       "      <td>...</td>\n",
       "      <td>...</td>\n",
       "      <td>...</td>\n",
       "      <td>...</td>\n",
       "      <td>...</td>\n",
       "      <td>...</td>\n",
       "      <td>...</td>\n",
       "      <td>...</td>\n",
       "      <td>...</td>\n",
       "      <td>...</td>\n",
       "      <td>...</td>\n",
       "      <td>...</td>\n",
       "      <td>...</td>\n",
       "    </tr>\n",
       "    <tr>\n",
       "      <th>24288</th>\n",
       "      <td>Terraced Duplexes</td>\n",
       "      <td>Lagos</td>\n",
       "      <td>40000000</td>\n",
       "      <td>3</td>\n",
       "      <td>4</td>\n",
       "      <td>4</td>\n",
       "      <td>3</td>\n",
       "      <td>200</td>\n",
       "      <td>245</td>\n",
       "      <td>163265</td>\n",
       "      <td>South West</td>\n",
       "      <td>25</td>\n",
       "      <td>11</td>\n",
       "    </tr>\n",
       "    <tr>\n",
       "      <th>24296</th>\n",
       "      <td>Detached Duplex</td>\n",
       "      <td>Lagos</td>\n",
       "      <td>60000000</td>\n",
       "      <td>3</td>\n",
       "      <td>3</td>\n",
       "      <td>4</td>\n",
       "      <td>4</td>\n",
       "      <td>500</td>\n",
       "      <td>550</td>\n",
       "      <td>109091</td>\n",
       "      <td>South West</td>\n",
       "      <td>15</td>\n",
       "      <td>10</td>\n",
       "    </tr>\n",
       "    <tr>\n",
       "      <th>24297</th>\n",
       "      <td>Terraced Duplexes</td>\n",
       "      <td>Lagos</td>\n",
       "      <td>31000000</td>\n",
       "      <td>3</td>\n",
       "      <td>3</td>\n",
       "      <td>3</td>\n",
       "      <td>4</td>\n",
       "      <td>200</td>\n",
       "      <td>250</td>\n",
       "      <td>124000</td>\n",
       "      <td>South West</td>\n",
       "      <td>25</td>\n",
       "      <td>9</td>\n",
       "    </tr>\n",
       "    <tr>\n",
       "      <th>24320</th>\n",
       "      <td>Detached Duplex</td>\n",
       "      <td>Lagos</td>\n",
       "      <td>80000000</td>\n",
       "      <td>3</td>\n",
       "      <td>4</td>\n",
       "      <td>4</td>\n",
       "      <td>5</td>\n",
       "      <td>500</td>\n",
       "      <td>555</td>\n",
       "      <td>144144</td>\n",
       "      <td>South West</td>\n",
       "      <td>15</td>\n",
       "      <td>11</td>\n",
       "    </tr>\n",
       "    <tr>\n",
       "      <th>24324</th>\n",
       "      <td>Block of Flats</td>\n",
       "      <td>Lagos</td>\n",
       "      <td>78000000</td>\n",
       "      <td>3</td>\n",
       "      <td>4</td>\n",
       "      <td>4</td>\n",
       "      <td>3</td>\n",
       "      <td>700</td>\n",
       "      <td>745</td>\n",
       "      <td>104698</td>\n",
       "      <td>South West</td>\n",
       "      <td>15</td>\n",
       "      <td>11</td>\n",
       "    </tr>\n",
       "  </tbody>\n",
       "</table>\n",
       "<p>3010 rows × 13 columns</p>\n",
       "</div>"
      ],
      "text/plain": [
       "             Description  state      price  bedrooms  bathrooms  toilets  \\\n",
       "10     Terraced Duplexes  Abuja   25000000         3          4        5   \n",
       "15     Detached Bungalow   Ogun   12000000         3          4        4   \n",
       "17     Detached Bungalow  Abuja   37000000         3          3        4   \n",
       "19        Block of Flats  Lagos  350000000         3          3        4   \n",
       "21     Terraced Duplexes  Lagos   34000000         3          3        4   \n",
       "...                  ...    ...        ...       ...        ...      ...   \n",
       "24288  Terraced Duplexes  Lagos   40000000         3          4        4   \n",
       "24296    Detached Duplex  Lagos   60000000         3          3        4   \n",
       "24297  Terraced Duplexes  Lagos   31000000         3          3        3   \n",
       "24320    Detached Duplex  Lagos   80000000         3          4        4   \n",
       "24324     Block of Flats  Lagos   78000000         3          4        4   \n",
       "\n",
       "       parking_space  Size  Adjusted Size  Price per sqm         Region  \\\n",
       "10                 4   200            250         100000  North Central   \n",
       "15                 3   400            445          26966     South West   \n",
       "17                 4   400            450          82222  North Central   \n",
       "19                 2   700            740         472973     South West   \n",
       "21                 4   200            250         136000     South West   \n",
       "...              ...   ...            ...            ...            ...   \n",
       "24288              3   200            245         163265     South West   \n",
       "24296              4   500            550         109091     South West   \n",
       "24297              4   200            250         124000     South West   \n",
       "24320              5   500            555         144144     South West   \n",
       "24324              3   700            745         104698     South West   \n",
       "\n",
       "       Property Age  Total Rooms  \n",
       "10               25           12  \n",
       "15               25           11  \n",
       "17               25           10  \n",
       "19                5           10  \n",
       "21               25           10  \n",
       "...             ...          ...  \n",
       "24288            25           11  \n",
       "24296            15           10  \n",
       "24297            25            9  \n",
       "24320            15           11  \n",
       "24324            15           11  \n",
       "\n",
       "[3010 rows x 13 columns]"
      ]
     },
     "execution_count": 74,
     "metadata": {},
     "output_type": "execute_result"
    }
   ],
   "source": [
    "df[df['bedrooms'] == 3]"
   ]
  },
  {
   "cell_type": "markdown",
   "metadata": {},
   "source": [
    "##### 10. The Average Price for Each Property Type"
   ]
  },
  {
   "cell_type": "code",
   "execution_count": 75,
   "metadata": {},
   "outputs": [
    {
     "data": {
      "text/plain": [
       "Description\n",
       "Block of Flats            1.757386e+08\n",
       "Detached Bungalow         4.263333e+07\n",
       "Detached Duplex           4.003036e+08\n",
       "Semi Detached Bungalow    3.569936e+07\n",
       "Semi Detached Duplex      3.498845e+08\n",
       "Terraced Bungalow         4.448170e+07\n",
       "Terraced Duplexes         1.219755e+08\n",
       "Name: price, dtype: float64"
      ]
     },
     "execution_count": 75,
     "metadata": {},
     "output_type": "execute_result"
    }
   ],
   "source": [
    "df.groupby('Description')['price'].mean()"
   ]
  },
  {
   "cell_type": "markdown",
   "metadata": {},
   "source": [
    "##### 11. Properties with the Highest Price per Square Meter"
   ]
  },
  {
   "cell_type": "code",
   "execution_count": 76,
   "metadata": {},
   "outputs": [
    {
     "data": {
      "text/html": [
       "<div>\n",
       "<style scoped>\n",
       "    .dataframe tbody tr th:only-of-type {\n",
       "        vertical-align: middle;\n",
       "    }\n",
       "\n",
       "    .dataframe tbody tr th {\n",
       "        vertical-align: top;\n",
       "    }\n",
       "\n",
       "    .dataframe thead th {\n",
       "        text-align: right;\n",
       "    }\n",
       "</style>\n",
       "<table border=\"1\" class=\"dataframe\">\n",
       "  <thead>\n",
       "    <tr style=\"text-align: right;\">\n",
       "      <th></th>\n",
       "      <th>Description</th>\n",
       "      <th>state</th>\n",
       "      <th>price</th>\n",
       "      <th>bedrooms</th>\n",
       "      <th>bathrooms</th>\n",
       "      <th>toilets</th>\n",
       "      <th>parking_space</th>\n",
       "      <th>Size</th>\n",
       "      <th>Adjusted Size</th>\n",
       "      <th>Price per sqm</th>\n",
       "      <th>Region</th>\n",
       "      <th>Property Age</th>\n",
       "      <th>Total Rooms</th>\n",
       "    </tr>\n",
       "  </thead>\n",
       "  <tbody>\n",
       "    <tr>\n",
       "      <th>4096</th>\n",
       "      <td>Detached Duplex</td>\n",
       "      <td>Lagos</td>\n",
       "      <td>1800000000000</td>\n",
       "      <td>7</td>\n",
       "      <td>7</td>\n",
       "      <td>8</td>\n",
       "      <td>8</td>\n",
       "      <td>500</td>\n",
       "      <td>610</td>\n",
       "      <td>2950819672</td>\n",
       "      <td>South West</td>\n",
       "      <td>5</td>\n",
       "      <td>22</td>\n",
       "    </tr>\n",
       "  </tbody>\n",
       "</table>\n",
       "</div>"
      ],
      "text/plain": [
       "          Description  state          price  bedrooms  bathrooms  toilets  \\\n",
       "4096  Detached Duplex  Lagos  1800000000000         7          7        8   \n",
       "\n",
       "      parking_space  Size  Adjusted Size  Price per sqm      Region  \\\n",
       "4096              8   500            610     2950819672  South West   \n",
       "\n",
       "      Property Age  Total Rooms  \n",
       "4096             5           22  "
      ]
     },
     "execution_count": 76,
     "metadata": {},
     "output_type": "execute_result"
    }
   ],
   "source": [
    "df[df['Price per sqm'] == df['Price per sqm'].max()]"
   ]
  },
  {
   "cell_type": "markdown",
   "metadata": {},
   "source": [
    "##### 12. Properties with the Lowest Price per Square Meter"
   ]
  },
  {
   "cell_type": "code",
   "execution_count": 77,
   "metadata": {},
   "outputs": [
    {
     "data": {
      "text/html": [
       "<div>\n",
       "<style scoped>\n",
       "    .dataframe tbody tr th:only-of-type {\n",
       "        vertical-align: middle;\n",
       "    }\n",
       "\n",
       "    .dataframe tbody tr th {\n",
       "        vertical-align: top;\n",
       "    }\n",
       "\n",
       "    .dataframe thead th {\n",
       "        text-align: right;\n",
       "    }\n",
       "</style>\n",
       "<table border=\"1\" class=\"dataframe\">\n",
       "  <thead>\n",
       "    <tr style=\"text-align: right;\">\n",
       "      <th></th>\n",
       "      <th>Description</th>\n",
       "      <th>state</th>\n",
       "      <th>price</th>\n",
       "      <th>bedrooms</th>\n",
       "      <th>bathrooms</th>\n",
       "      <th>toilets</th>\n",
       "      <th>parking_space</th>\n",
       "      <th>Size</th>\n",
       "      <th>Adjusted Size</th>\n",
       "      <th>Price per sqm</th>\n",
       "      <th>Region</th>\n",
       "      <th>Property Age</th>\n",
       "      <th>Total Rooms</th>\n",
       "    </tr>\n",
       "  </thead>\n",
       "  <tbody>\n",
       "    <tr>\n",
       "      <th>2385</th>\n",
       "      <td>Semi Detached Duplex</td>\n",
       "      <td>Abuja</td>\n",
       "      <td>110000</td>\n",
       "      <td>5</td>\n",
       "      <td>7</td>\n",
       "      <td>7</td>\n",
       "      <td>4</td>\n",
       "      <td>500</td>\n",
       "      <td>570</td>\n",
       "      <td>193</td>\n",
       "      <td>North Central</td>\n",
       "      <td>25</td>\n",
       "      <td>19</td>\n",
       "    </tr>\n",
       "  </tbody>\n",
       "</table>\n",
       "</div>"
      ],
      "text/plain": [
       "               Description  state   price  bedrooms  bathrooms  toilets  \\\n",
       "2385  Semi Detached Duplex  Abuja  110000         5          7        7   \n",
       "\n",
       "      parking_space  Size  Adjusted Size  Price per sqm         Region  \\\n",
       "2385              4   500            570            193  North Central   \n",
       "\n",
       "      Property Age  Total Rooms  \n",
       "2385            25           19  "
      ]
     },
     "execution_count": 77,
     "metadata": {},
     "output_type": "execute_result"
    }
   ],
   "source": [
    "df[df['Price per sqm'] == df['Price per sqm'].min()]"
   ]
  },
  {
   "cell_type": "markdown",
   "metadata": {},
   "source": [
    "##### 13. The Total Number of Parking Spaces"
   ]
  },
  {
   "cell_type": "code",
   "execution_count": 78,
   "metadata": {},
   "outputs": [
    {
     "data": {
      "text/plain": [
       "98319"
      ]
     },
     "execution_count": 78,
     "metadata": {},
     "output_type": "execute_result"
    }
   ],
   "source": [
    "df['parking_space'].sum()"
   ]
  },
  {
   "cell_type": "markdown",
   "metadata": {},
   "source": [
    "##### 14. Most Common Property Type"
   ]
  },
  {
   "cell_type": "code",
   "execution_count": 79,
   "metadata": {},
   "outputs": [
    {
     "data": {
      "text/plain": [
       "'Detached Duplex'"
      ]
     },
     "execution_count": 79,
     "metadata": {},
     "output_type": "execute_result"
    }
   ],
   "source": [
    "df['Description'].value_counts().idxmax()"
   ]
  },
  {
   "cell_type": "markdown",
   "metadata": {},
   "source": [
    "##### 15. The Average Price of Properties Built in the Last 5 Years"
   ]
  },
  {
   "cell_type": "code",
   "execution_count": 80,
   "metadata": {},
   "outputs": [
    {
     "data": {
      "text/plain": [
       "1243604387.2513578"
      ]
     },
     "execution_count": 80,
     "metadata": {},
     "output_type": "execute_result"
    }
   ],
   "source": [
    "df[df['Property Age'] <= 5]['price'].mean()"
   ]
  },
  {
   "cell_type": "markdown",
   "metadata": {},
   "source": [
    "##### 16. The Most Expensive Property in Each Region"
   ]
  },
  {
   "cell_type": "code",
   "execution_count": 81,
   "metadata": {},
   "outputs": [
    {
     "data": {
      "text/html": [
       "<div>\n",
       "<style scoped>\n",
       "    .dataframe tbody tr th:only-of-type {\n",
       "        vertical-align: middle;\n",
       "    }\n",
       "\n",
       "    .dataframe tbody tr th {\n",
       "        vertical-align: top;\n",
       "    }\n",
       "\n",
       "    .dataframe thead th {\n",
       "        text-align: right;\n",
       "    }\n",
       "</style>\n",
       "<table border=\"1\" class=\"dataframe\">\n",
       "  <thead>\n",
       "    <tr style=\"text-align: right;\">\n",
       "      <th></th>\n",
       "      <th>Description</th>\n",
       "      <th>state</th>\n",
       "      <th>price</th>\n",
       "      <th>bedrooms</th>\n",
       "      <th>bathrooms</th>\n",
       "      <th>toilets</th>\n",
       "      <th>parking_space</th>\n",
       "      <th>Size</th>\n",
       "      <th>Adjusted Size</th>\n",
       "      <th>Price per sqm</th>\n",
       "      <th>Region</th>\n",
       "      <th>Property Age</th>\n",
       "      <th>Total Rooms</th>\n",
       "    </tr>\n",
       "  </thead>\n",
       "  <tbody>\n",
       "    <tr>\n",
       "      <th>15836</th>\n",
       "      <td>Terraced Duplexes</td>\n",
       "      <td>Abuja</td>\n",
       "      <td>85000000000</td>\n",
       "      <td>5</td>\n",
       "      <td>6</td>\n",
       "      <td>7</td>\n",
       "      <td>4</td>\n",
       "      <td>200</td>\n",
       "      <td>270</td>\n",
       "      <td>314814815</td>\n",
       "      <td>North Central</td>\n",
       "      <td>5</td>\n",
       "      <td>18</td>\n",
       "    </tr>\n",
       "    <tr>\n",
       "      <th>23307</th>\n",
       "      <td>Semi Detached Duplex</td>\n",
       "      <td>Enugu</td>\n",
       "      <td>320000000</td>\n",
       "      <td>5</td>\n",
       "      <td>5</td>\n",
       "      <td>6</td>\n",
       "      <td>1</td>\n",
       "      <td>500</td>\n",
       "      <td>555</td>\n",
       "      <td>576577</td>\n",
       "      <td>South East</td>\n",
       "      <td>5</td>\n",
       "      <td>16</td>\n",
       "    </tr>\n",
       "    <tr>\n",
       "      <th>13181</th>\n",
       "      <td>Detached Duplex</td>\n",
       "      <td>Rivers</td>\n",
       "      <td>4000000000</td>\n",
       "      <td>5</td>\n",
       "      <td>6</td>\n",
       "      <td>6</td>\n",
       "      <td>6</td>\n",
       "      <td>500</td>\n",
       "      <td>580</td>\n",
       "      <td>6896552</td>\n",
       "      <td>South South</td>\n",
       "      <td>5</td>\n",
       "      <td>17</td>\n",
       "    </tr>\n",
       "    <tr>\n",
       "      <th>4096</th>\n",
       "      <td>Detached Duplex</td>\n",
       "      <td>Lagos</td>\n",
       "      <td>1800000000000</td>\n",
       "      <td>7</td>\n",
       "      <td>7</td>\n",
       "      <td>8</td>\n",
       "      <td>8</td>\n",
       "      <td>500</td>\n",
       "      <td>610</td>\n",
       "      <td>2950819672</td>\n",
       "      <td>South West</td>\n",
       "      <td>5</td>\n",
       "      <td>22</td>\n",
       "    </tr>\n",
       "  </tbody>\n",
       "</table>\n",
       "</div>"
      ],
      "text/plain": [
       "                Description   state          price  bedrooms  bathrooms  \\\n",
       "15836     Terraced Duplexes   Abuja    85000000000         5          6   \n",
       "23307  Semi Detached Duplex   Enugu      320000000         5          5   \n",
       "13181       Detached Duplex  Rivers     4000000000         5          6   \n",
       "4096        Detached Duplex   Lagos  1800000000000         7          7   \n",
       "\n",
       "       toilets  parking_space  Size  Adjusted Size  Price per sqm  \\\n",
       "15836        7              4   200            270      314814815   \n",
       "23307        6              1   500            555         576577   \n",
       "13181        6              6   500            580        6896552   \n",
       "4096         8              8   500            610     2950819672   \n",
       "\n",
       "              Region  Property Age  Total Rooms  \n",
       "15836  North Central             5           18  \n",
       "23307     South East             5           16  \n",
       "13181    South South             5           17  \n",
       "4096      South West             5           22  "
      ]
     },
     "execution_count": 81,
     "metadata": {},
     "output_type": "execute_result"
    }
   ],
   "source": [
    "df.loc[df.groupby('Region')['price'].idxmax()]"
   ]
  },
  {
   "cell_type": "markdown",
   "metadata": {},
   "source": [
    "##### 17. The Cheapest Property in Each Region"
   ]
  },
  {
   "cell_type": "code",
   "execution_count": 82,
   "metadata": {},
   "outputs": [
    {
     "data": {
      "text/html": [
       "<div>\n",
       "<style scoped>\n",
       "    .dataframe tbody tr th:only-of-type {\n",
       "        vertical-align: middle;\n",
       "    }\n",
       "\n",
       "    .dataframe tbody tr th {\n",
       "        vertical-align: top;\n",
       "    }\n",
       "\n",
       "    .dataframe thead th {\n",
       "        text-align: right;\n",
       "    }\n",
       "</style>\n",
       "<table border=\"1\" class=\"dataframe\">\n",
       "  <thead>\n",
       "    <tr style=\"text-align: right;\">\n",
       "      <th></th>\n",
       "      <th>Description</th>\n",
       "      <th>state</th>\n",
       "      <th>price</th>\n",
       "      <th>bedrooms</th>\n",
       "      <th>bathrooms</th>\n",
       "      <th>toilets</th>\n",
       "      <th>parking_space</th>\n",
       "      <th>Size</th>\n",
       "      <th>Adjusted Size</th>\n",
       "      <th>Price per sqm</th>\n",
       "      <th>Region</th>\n",
       "      <th>Property Age</th>\n",
       "      <th>Total Rooms</th>\n",
       "    </tr>\n",
       "  </thead>\n",
       "  <tbody>\n",
       "    <tr>\n",
       "      <th>2385</th>\n",
       "      <td>Semi Detached Duplex</td>\n",
       "      <td>Abuja</td>\n",
       "      <td>110000</td>\n",
       "      <td>5</td>\n",
       "      <td>7</td>\n",
       "      <td>7</td>\n",
       "      <td>4</td>\n",
       "      <td>500</td>\n",
       "      <td>570</td>\n",
       "      <td>193</td>\n",
       "      <td>North Central</td>\n",
       "      <td>25</td>\n",
       "      <td>19</td>\n",
       "    </tr>\n",
       "    <tr>\n",
       "      <th>11014</th>\n",
       "      <td>Block of Flats</td>\n",
       "      <td>Enugu</td>\n",
       "      <td>4500000</td>\n",
       "      <td>4</td>\n",
       "      <td>5</td>\n",
       "      <td>5</td>\n",
       "      <td>4</td>\n",
       "      <td>700</td>\n",
       "      <td>760</td>\n",
       "      <td>5921</td>\n",
       "      <td>South East</td>\n",
       "      <td>25</td>\n",
       "      <td>14</td>\n",
       "    </tr>\n",
       "    <tr>\n",
       "      <th>9500</th>\n",
       "      <td>Detached Bungalow</td>\n",
       "      <td>Edo</td>\n",
       "      <td>3000000</td>\n",
       "      <td>4</td>\n",
       "      <td>3</td>\n",
       "      <td>4</td>\n",
       "      <td>4</td>\n",
       "      <td>400</td>\n",
       "      <td>460</td>\n",
       "      <td>6522</td>\n",
       "      <td>South South</td>\n",
       "      <td>25</td>\n",
       "      <td>11</td>\n",
       "    </tr>\n",
       "    <tr>\n",
       "      <th>2693</th>\n",
       "      <td>Terraced Duplexes</td>\n",
       "      <td>Lagos</td>\n",
       "      <td>90000</td>\n",
       "      <td>2</td>\n",
       "      <td>3</td>\n",
       "      <td>3</td>\n",
       "      <td>4</td>\n",
       "      <td>200</td>\n",
       "      <td>240</td>\n",
       "      <td>375</td>\n",
       "      <td>South West</td>\n",
       "      <td>25</td>\n",
       "      <td>8</td>\n",
       "    </tr>\n",
       "  </tbody>\n",
       "</table>\n",
       "</div>"
      ],
      "text/plain": [
       "                Description  state    price  bedrooms  bathrooms  toilets  \\\n",
       "2385   Semi Detached Duplex  Abuja   110000         5          7        7   \n",
       "11014        Block of Flats  Enugu  4500000         4          5        5   \n",
       "9500      Detached Bungalow    Edo  3000000         4          3        4   \n",
       "2693      Terraced Duplexes  Lagos    90000         2          3        3   \n",
       "\n",
       "       parking_space  Size  Adjusted Size  Price per sqm         Region  \\\n",
       "2385               4   500            570            193  North Central   \n",
       "11014              4   700            760           5921     South East   \n",
       "9500               4   400            460           6522    South South   \n",
       "2693               4   200            240            375     South West   \n",
       "\n",
       "       Property Age  Total Rooms  \n",
       "2385             25           19  \n",
       "11014            25           14  \n",
       "9500             25           11  \n",
       "2693             25            8  "
      ]
     },
     "execution_count": 82,
     "metadata": {},
     "output_type": "execute_result"
    }
   ],
   "source": [
    "df.loc[df.groupby('Region')['price'].idxmin()]"
   ]
  },
  {
   "cell_type": "code",
   "execution_count": null,
   "metadata": {},
   "outputs": [],
   "source": []
  }
 ],
 "metadata": {
  "kernelspec": {
   "display_name": "base",
   "language": "python",
   "name": "python3"
  },
  "language_info": {
   "codemirror_mode": {
    "name": "ipython",
    "version": 3
   },
   "file_extension": ".py",
   "mimetype": "text/x-python",
   "name": "python",
   "nbconvert_exporter": "python",
   "pygments_lexer": "ipython3",
   "version": "3.12.4"
  }
 },
 "nbformat": 4,
 "nbformat_minor": 2
}
